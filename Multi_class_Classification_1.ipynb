{
  "cells": [
    {
      "cell_type": "markdown",
      "metadata": {
        "id": "MLWhCpRI1os1"
      },
      "source": [
        "# **Softmax Regression, One-vs-All and One-vs-One for Multi-class Classification**\n"
      ]
    },
    {
      "cell_type": "markdown",
      "metadata": {
        "id": "xvRb25mJ1os3"
      },
      "source": [
        "## **Objectives**\n"
      ]
    },
    {
      "cell_type": "markdown",
      "metadata": {
        "id": "A94xZzfB1os3"
      },
      "source": [
        "After completing this lab you will be able to:\n"
      ]
    },
    {
      "cell_type": "markdown",
      "metadata": {
        "id": "uRYnf_ON1os3"
      },
      "source": [
        "*   Understand and apply some theory behind:\n",
        "    *   Softmax regression\n",
        "    *   One vs. All (One-vs-Rest)\n",
        "    *   One vs. One\n"
      ]
    },
    {
      "cell_type": "markdown",
      "metadata": {
        "id": "pm8OgJYf1os4"
      },
      "source": [
        "## **Introduction**\n"
      ]
    },
    {
      "cell_type": "markdown",
      "metadata": {
        "id": "IZ9ILpkR1os4"
      },
      "source": [
        "In Multi-class classification, we classify data into multiple class labels. Unlike classification trees and k-nearest neighbor, the concept of multi-class classification for linear classifiers is not as straightforward. We can convert logistic regression to multi-class classification using multinomial logistic regression or softmax regression; this is a generalization of logistic regression, this will not work for support vector machines. One vs. All (One-vs-Rest) and One vs. One are two other multi-class classification techniques can convert any two-class classifier into a multi-class classifier.\n"
      ]
    },
    {
      "cell_type": "markdown",
      "metadata": {
        "id": "11x5X6Co1os5"
      },
      "source": [
        "***\n"
      ]
    },
    {
      "cell_type": "markdown",
      "metadata": {
        "id": "UVJivz_M1os6"
      },
      "source": [
        "## **Install and Import the required libraries**\n"
      ]
    },
    {
      "cell_type": "markdown",
      "metadata": {
        "id": "1velxGXT1os6"
      },
      "source": [
        "For this lab, we are going to be using several Python libraries such as scit-learn, numpy, and matplotlib  for visualizations. Some of these libraries might be installed in your lab environment, and others may need to be installed by you by removing the hash signs. The cells below will install these libraries when executed.\n"
      ]
    },
    {
      "cell_type": "code",
      "execution_count": 1,
      "metadata": {
        "id": "X3tF5hlK1os6"
      },
      "outputs": [],
      "source": [
        "import numpy as np\n",
        "import matplotlib.pyplot as plt\n",
        "from sklearn import datasets\n",
        "from sklearn.svm import SVC\n",
        "from sklearn.linear_model import LogisticRegression\n",
        "from sklearn.metrics import accuracy_score\n",
        "import pandas as pd"
      ]
    },
    {
      "cell_type": "markdown",
      "metadata": {
        "id": "AzL-2HEI1os7"
      },
      "source": [
        "## Utility Function\n"
      ]
    },
    {
      "cell_type": "markdown",
      "metadata": {
        "id": "UUBSp52v1os8"
      },
      "source": [
        "This function plots a different decision boundary.\n"
      ]
    },
    {
      "cell_type": "code",
      "execution_count": 2,
      "metadata": {
        "id": "nK08z1t71os8"
      },
      "outputs": [],
      "source": [
        "plot_colors = \"ryb\"\n",
        "plot_step = 0.02\n",
        "\n",
        "def decision_boundary (X,y,model,iris, two=None):\n",
        "    x_min, x_max = X[:, 0].min() - 1, X[:, 0].max() + 1\n",
        "    y_min, y_max = X[:, 1].min() - 1, X[:, 1].max() + 1\n",
        "    xx, yy = np.meshgrid(np.arange(x_min, x_max, plot_step),\n",
        "                         np.arange(y_min, y_max, plot_step))\n",
        "    plt.tight_layout(h_pad=0.5, w_pad=0.5, pad=2.5)\n",
        "    \n",
        "    Z = model.predict(np.c_[xx.ravel(), yy.ravel()])\n",
        "    Z = Z.reshape(xx.shape)\n",
        "    cs = plt.contourf(xx, yy, Z,cmap=plt.cm.RdYlBu)\n",
        "    \n",
        "    if two:\n",
        "        cs = plt.contourf(xx, yy, Z,cmap=plt.cm.RdYlBu)\n",
        "        for i, color in zip(np.unique(y), plot_colors):\n",
        "            \n",
        "            idx = np.where( y== i)\n",
        "            plt.scatter(X[idx, 0], X[idx, 1], label=y,cmap=plt.cm.RdYlBu, s=15)\n",
        "        plt.show()\n",
        "  \n",
        "    else:\n",
        "        set_={0,1,2}\n",
        "        print(set_)\n",
        "        for i, color in zip(range(3), plot_colors):\n",
        "            idx = np.where( y== i)\n",
        "            if np.any(idx):\n",
        "\n",
        "                set_.remove(i)\n",
        "\n",
        "                plt.scatter(X[idx, 0], X[idx, 1], label=y,cmap=plt.cm.RdYlBu, edgecolor='black', s=15)\n",
        "\n",
        "\n",
        "        for  i in set_:\n",
        "            idx = np.where( iris.target== i)\n",
        "            plt.scatter(X[idx, 0], X[idx, 1], marker='x',color='black')\n",
        "\n",
        "        plt.show()\n"
      ]
    },
    {
      "cell_type": "markdown",
      "metadata": {
        "id": "mAibx88C1os9"
      },
      "source": [
        "This function will plot the probability of belonging to each class; each column is the probability of belonging to a class and the row number is the sample number.\n"
      ]
    },
    {
      "cell_type": "code",
      "execution_count": 3,
      "metadata": {
        "id": "8tBMvTty1os9"
      },
      "outputs": [],
      "source": [
        "def plot_probability_array(X,probability_array):\n",
        "\n",
        "    plot_array=np.zeros((X.shape[0],30))\n",
        "    col_start=0\n",
        "    ones=np.ones((X.shape[0],30))\n",
        "    for class_,col_end in enumerate([10,20,30]):\n",
        "        plot_array[:,col_start:col_end]= np.repeat(probability_array[:,class_].reshape(-1,1), 10,axis=1)\n",
        "        col_start=col_end\n",
        "    plt.imshow(plot_array)\n",
        "    plt.xticks([])\n",
        "    plt.ylabel(\"samples\")\n",
        "    plt.xlabel(\"probability of 3 classes\")\n",
        "    plt.colorbar()\n",
        "    plt.show()"
      ]
    },
    {
      "cell_type": "markdown",
      "metadata": {
        "id": "TzXVXGce1os9"
      },
      "source": [
        "In ths lab we will use the  iris dataset,  it consists of three different types of irises’ (Setosa y=0, Versicolour y=1, and Virginica y=2), petal and sepal length, stored in a 150x4 numpy.ndarray.\n",
        "\n",
        "The rows being the samples and the columns: Sepal Length, Sepal Width, Petal Length and Petal Width.\n",
        "\n",
        "The following plot uses the second two features:\n"
      ]
    },
    {
      "cell_type": "code",
      "execution_count": 4,
      "metadata": {
        "colab": {
          "base_uri": "https://localhost:8080/"
        },
        "id": "p4Qzh-sd1os-",
        "outputId": "05d30057-016e-4265-d5bd-0b15e99fc04b"
      },
      "outputs": [
        {
          "output_type": "execute_result",
          "data": {
            "text/plain": [
              "array([0, 1, 2])"
            ]
          },
          "metadata": {},
          "execution_count": 4
        }
      ],
      "source": [
        "pair=[1, 3]\n",
        "iris = datasets.load_iris()\n",
        "X = iris.data[:, pair]\n",
        "y = iris.target\n",
        "np.unique(y)"
      ]
    },
    {
      "cell_type": "code",
      "execution_count": 5,
      "metadata": {
        "colab": {
          "base_uri": "https://localhost:8080/",
          "height": 296
        },
        "id": "qk5MV-2x1os-",
        "outputId": "faa502ae-0de4-43df-8014-04f9933c63cb"
      },
      "outputs": [
        {
          "output_type": "execute_result",
          "data": {
            "text/plain": [
              "Text(0, 0.5, 'petal width')"
            ]
          },
          "metadata": {},
          "execution_count": 5
        },
        {
          "output_type": "display_data",
          "data": {
            "text/plain": [
              "<Figure size 432x288 with 1 Axes>"
            ],
            "image/png": "[encoded data removed]"
          },
          "metadata": {
            "needs_background": "light"
          }
        }
      ],
      "source": [
        "plt.scatter(X[:, 0], X[:, 1], c=y, cmap=plt.cm.RdYlBu)\n",
        "plt.xlabel(\"sepal width (cm)\")\n",
        "plt.ylabel(\"petal width\")"
      ]
    },
    {
      "cell_type": "markdown",
      "metadata": {
        "id": "RuWDycHR1os-"
      },
      "source": [
        "## **Softmax Regression**\n"
      ]
    },
    {
      "cell_type": "markdown",
      "metadata": {
        "id": "BuGewWhy1os_"
      },
      "source": [
        "SoftMax regression is similar to logistic regression, and the softmax function converts the actual distances, that is, dot products of $x$ with each of the parameters $\\theta_i$ for the $K$ classes. This is converted to probabilities using the following:\n"
      ]
    },
    {
      "cell_type": "markdown",
      "metadata": {
        "id": "d79G1afR1os_"
      },
      "source": [
        "$softmax(x,i) = \\frac{e^{ \\theta_i^T \\bf x}}{\\sum\\_{j=1}^K e^{\\theta_j^T x}} $\n"
      ]
    },
    {
      "cell_type": "markdown",
      "metadata": {
        "id": "xNABqceL1os_"
      },
      "source": [
        "The training procedure is almost identical to logistic regression. Consider the three-class example where $y \\in {0,1,2}$ we would like to classify $x\\_1$. We can use the softmax function to generate a probability of how likely the sample belongs to each class:\n"
      ]
    },
    {
      "cell_type": "markdown",
      "metadata": {
        "id": "5okez0hZ1os_"
      },
      "source": [
        "$\\[softmax(x\\_1,0),softmax(x\\_1,1),softmax(x\\_1,2)]=\\[0.97,0.2,0.1]$\n"
      ]
    },
    {
      "cell_type": "markdown",
      "metadata": {
        "id": "_eTeaXEL1os_"
      },
      "source": [
        "The index of each probability is the same as the class. We can make a prediction using the argmax function:\n"
      ]
    },
    {
      "cell_type": "markdown",
      "metadata": {
        "id": "3aDrXtFO1otA"
      },
      "source": [
        "$\\hat{y}=argmax_i  {softmax(x,i)}$\n"
      ]
    },
    {
      "cell_type": "markdown",
      "metadata": {
        "id": "Flo9GtUU1otA"
      },
      "source": [
        "For the previous example, we can make a prediction as follows:\n"
      ]
    },
    {
      "cell_type": "markdown",
      "metadata": {
        "id": "2B7BV_ar1otA"
      },
      "source": [
        "$\\hat{y}=argmax_i  {\\[0.97,0.2,0.1]}=0$\n"
      ]
    },
    {
      "cell_type": "markdown",
      "metadata": {
        "id": "XfWHbDEX1otA"
      },
      "source": [
        "The <code>sklearn</code> does this automatically, but we can verify the prediction step, as we fit the model:\n"
      ]
    },
    {
      "cell_type": "code",
      "execution_count": 6,
      "metadata": {
        "id": "0q36oX8d1otA"
      },
      "outputs": [],
      "source": [
        "lr = LogisticRegression(random_state=0).fit(X, y)"
      ]
    },
    {
      "cell_type": "markdown",
      "metadata": {
        "id": "eZqP2dmy1otB"
      },
      "source": [
        "We generate the probability using the method <ocde>predict_proba</code>:\n"
      ]
    },
    {
      "cell_type": "code",
      "execution_count": 7,
      "metadata": {
        "id": "JxvRCVbx1otB"
      },
      "outputs": [],
      "source": [
        "probability=lr.predict_proba(X)\n"
      ]
    },
    {
      "cell_type": "markdown",
      "metadata": {
        "id": "JmajqmYx1otC"
      },
      "source": [
        "We can plot the probability of belonging to each class; each column is the probability of belonging to a class and the row number is the sample number.\n"
      ]
    },
    {
      "cell_type": "code",
      "execution_count": 8,
      "metadata": {
        "colab": {
          "base_uri": "https://localhost:8080/",
          "height": 266
        },
        "id": "fI0wkv6X1otC",
        "outputId": "0abfc26f-bea6-4258-8b9b-3b13923296a6"
      },
      "outputs": [
        {
          "output_type": "display_data",
          "data": {
            "text/plain": [
              "<Figure size 432x288 with 2 Axes>"
            ],
            "image/png": "[encoded data removed]"
          },
          "metadata": {
            "needs_background": "light"
          }
        }
      ],
      "source": [
        "plot_probability_array(X,probability)"
      ]
    },
    {
      "cell_type": "markdown",
      "metadata": {
        "id": "9T1S4tCO1otC"
      },
      "source": [
        "Here, is the output for the first sample:\n"
      ]
    },
    {
      "cell_type": "code",
      "execution_count": 9,
      "metadata": {
        "colab": {
          "base_uri": "https://localhost:8080/"
        },
        "id": "fT6UMRzZ1otC",
        "outputId": "09b50a72-f6cf-4d16-b9a8-30e4e7c9408f"
      },
      "outputs": [
        {
          "output_type": "execute_result",
          "data": {
            "text/plain": [
              "array([9.57671606e-01, 4.22321095e-02, 9.62845517e-05])"
            ]
          },
          "metadata": {},
          "execution_count": 9
        }
      ],
      "source": [
        "probability[0,:]"
      ]
    },
    {
      "cell_type": "markdown",
      "metadata": {
        "id": "JYQTtLzt1otD"
      },
      "source": [
        "We see it sums to one.\n"
      ]
    },
    {
      "cell_type": "code",
      "execution_count": 10,
      "metadata": {
        "colab": {
          "base_uri": "https://localhost:8080/"
        },
        "id": "HSMq2VKW1otD",
        "outputId": "4e357e1e-6a78-4ac6-fca3-a2128885c9eb"
      },
      "outputs": [
        {
          "output_type": "execute_result",
          "data": {
            "text/plain": [
              "1.0"
            ]
          },
          "metadata": {},
          "execution_count": 10
        }
      ],
      "source": [
        "probability[0,:].sum()"
      ]
    },
    {
      "cell_type": "markdown",
      "metadata": {
        "id": "TBM61n591otD"
      },
      "source": [
        "We can apply the $argmax$ function.\n"
      ]
    },
    {
      "cell_type": "code",
      "execution_count": 11,
      "metadata": {
        "colab": {
          "base_uri": "https://localhost:8080/"
        },
        "id": "sVSZgaEj1otD",
        "outputId": "fe2ad26d-5968-4188-c075-4a89b41ce87c"
      },
      "outputs": [
        {
          "output_type": "execute_result",
          "data": {
            "text/plain": [
              "0"
            ]
          },
          "metadata": {},
          "execution_count": 11
        }
      ],
      "source": [
        "np.argmax(probability[0,:])"
      ]
    },
    {
      "cell_type": "markdown",
      "metadata": {
        "id": "A63JJMa01otE"
      },
      "source": [
        "We can apply the $argmax$ function to each sample.\n"
      ]
    },
    {
      "cell_type": "code",
      "execution_count": 12,
      "metadata": {
        "colab": {
          "base_uri": "https://localhost:8080/"
        },
        "id": "xCZFWooJ1otE",
        "outputId": "fb9c1148-d48c-4b18-d1e7-7041d0995867"
      },
      "outputs": [
        {
          "output_type": "execute_result",
          "data": {
            "text/plain": [
              "array([0, 0, 0, 0, 0, 0, 0, 0, 0, 0, 0, 0, 0, 0, 0, 0, 0, 0, 0, 0, 0, 0,\n",
              "       0, 0, 0, 0, 0, 0, 0, 0, 0, 0, 0, 0, 0, 0, 0, 0, 0, 0, 0, 0, 0, 0,\n",
              "       0, 0, 0, 0, 0, 0, 1, 1, 1, 1, 1, 1, 1, 1, 1, 1, 1, 1, 1, 1, 1, 1,\n",
              "       1, 1, 1, 1, 2, 1, 1, 1, 1, 1, 1, 2, 1, 1, 1, 1, 1, 1, 1, 1, 1, 1,\n",
              "       1, 1, 1, 1, 1, 1, 1, 1, 1, 1, 1, 1, 2, 2, 2, 2, 2, 2, 2, 2, 2, 2,\n",
              "       2, 2, 2, 2, 2, 2, 2, 2, 2, 1, 2, 2, 2, 2, 2, 2, 2, 2, 2, 1, 2, 2,\n",
              "       2, 1, 1, 2, 2, 2, 2, 2, 2, 2, 2, 2, 2, 2, 2, 2, 2, 2])"
            ]
          },
          "metadata": {},
          "execution_count": 12
        }
      ],
      "source": [
        "softmax_prediction=np.argmax(probability,axis=1)\n",
        "softmax_prediction"
      ]
    },
    {
      "cell_type": "markdown",
      "metadata": {
        "id": "yDhMKL0e1otE"
      },
      "source": [
        "We can verify that sklearn does this under the hood by comparing it to the output of the method <code> predict  </code>.\n"
      ]
    },
    {
      "cell_type": "code",
      "execution_count": 13,
      "metadata": {
        "colab": {
          "base_uri": "https://localhost:8080/"
        },
        "id": "EYJwf1TJ1otE",
        "outputId": "a16e2845-27a7-42af-8934-905128493794"
      },
      "outputs": [
        {
          "output_type": "execute_result",
          "data": {
            "text/plain": [
              "1.0"
            ]
          },
          "metadata": {},
          "execution_count": 13
        }
      ],
      "source": [
        "yhat =lr.predict(X)\n",
        "accuracy_score(yhat,softmax_prediction)"
      ]
    },
    {
      "cell_type": "markdown",
      "metadata": {
        "id": "5ag9xGSZ1otE"
      },
      "source": [
        "We can't use Softmax regression for SVMs, Let's explore two methods of Multi-class Classification that we can apply to SVM.\n"
      ]
    },
    {
      "cell_type": "markdown",
      "metadata": {
        "id": "FKeQbHY11otF"
      },
      "source": [
        "## SVM\n"
      ]
    },
    {
      "cell_type": "markdown",
      "metadata": {
        "id": "5wKroXB-1otF"
      },
      "source": [
        "Sklean performs Multi-class Classification automatically, we can apply the method and calculate the accuracy. Train a SVM classifier with the `kernel` set to `linear`, `gamma` set to `0.5`, and the `probability` paramter set to `True`, then train the model using the `X` and `y` data.\n"
      ]
    },
    {
      "cell_type": "code",
      "execution_count": 15,
      "metadata": {
        "colab": {
          "base_uri": "https://localhost:8080/"
        },
        "id": "Y085H4gx1otF",
        "outputId": "eee28f77-ff51-48b0-e75a-ac7f40137fde"
      },
      "outputs": [
        {
          "output_type": "execute_result",
          "data": {
            "text/plain": [
              "SVC(gamma=0.5, kernel='linear', probability=True)"
            ]
          },
          "metadata": {},
          "execution_count": 15
        }
      ],
      "source": [
        "model = SVC(kernel='linear', gamma=.5, probability=True)\n",
        "\n",
        "model.fit(X,y)"
      ]
    },
    {
      "cell_type": "markdown",
      "metadata": {
        "id": "VLq9i8tk1otG"
      },
      "source": [
        "Find the `accuracy_score` on the training data.\n"
      ]
    },
    {
      "cell_type": "code",
      "execution_count": 16,
      "metadata": {
        "colab": {
          "base_uri": "https://localhost:8080/"
        },
        "id": "TYCxgvEm1otG",
        "outputId": "97b696c5-e95b-407d-d4da-74acfeae71f4"
      },
      "outputs": [
        {
          "output_type": "execute_result",
          "data": {
            "text/plain": [
              "0.96"
            ]
          },
          "metadata": {},
          "execution_count": 16
        }
      ],
      "source": [
        "yhat = model.predict(X)\n",
        "\n",
        "accuracy_score(y,yhat)"
      ]
    },
    {
      "cell_type": "markdown",
      "metadata": {
        "id": "2Nnyluj21otG"
      },
      "source": [
        "We can plot the decision_boundary.\n"
      ]
    },
    {
      "cell_type": "code",
      "execution_count": 17,
      "metadata": {
        "colab": {
          "base_uri": "https://localhost:8080/",
          "height": 282
        },
        "id": "N5ozSezC1otG",
        "outputId": "422d7b7b-e3fe-47a1-a6eb-412368995a06"
      },
      "outputs": [
        {
          "output_type": "stream",
          "name": "stdout",
          "text": [
            "{0, 1, 2}\n"
          ]
        },
        {
          "output_type": "display_data",
          "data": {
            "text/plain": [
              "<Figure size 432x288 with 1 Axes>"
            ],
            "image/png": "[encoded data removed]"
          },
          "metadata": {
            "needs_background": "light"
          }
        }
      ],
      "source": [
        "decision_boundary (X,y,model,iris)"
      ]
    },
    {
      "cell_type": "markdown",
      "metadata": {
        "id": "SfWSZcbu1otH"
      },
      "source": [
        "Let's implement One vs. All and One vs One:\n"
      ]
    },
    {
      "cell_type": "markdown",
      "metadata": {
        "id": "Pqi9MqYt1otH"
      },
      "source": [
        "## One vs. All (One-vs-Rest)\n"
      ]
    },
    {
      "cell_type": "markdown",
      "metadata": {
        "id": "hEe-QMJN1otH"
      },
      "source": [
        "For one-vs-all classification, if we have K classes, we use K two-class classifier models. The number of class labels present in the dataset is equal to the number of generated classifiers. First, we create an artificial class we will call this \"dummy\" class. For each classifier, we split the data into two classes. We take the class samples we would like to classify, the rest of the samples will be labelled as a dummy class. We repeat the process for each class. To make a  classification, we use the classifier with the highest probability, disregarding the dummy class.\n"
      ]
    },
    {
      "cell_type": "markdown",
      "metadata": {
        "id": "sq8TFw9G1otH"
      },
      "source": [
        "### Train Each Classifier\n"
      ]
    },
    {
      "cell_type": "markdown",
      "metadata": {
        "id": "-YmEXDRD1otH"
      },
      "source": [
        "Here, we train three classifiers and place them in the list <code>my_models</code>. For each class we take the class samples we would like to classify, and the rest will be labelled as a dummy class. We repeat the process for each class. For each classifier, we plot the decision regions. The class we are interested in is in red, and the dummy class is in blue. Similarly, the class samples are marked in blue, and the dummy samples are marked with a black x.\n"
      ]
    },
    {
      "cell_type": "code",
      "execution_count": 18,
      "metadata": {
        "colab": {
          "base_uri": "https://localhost:8080/",
          "height": 813
        },
        "id": "k1-C5toq1otI",
        "outputId": "174a76f8-7a1a-4a8e-e367-86f30d494bfe"
      },
      "outputs": [
        {
          "output_type": "stream",
          "name": "stdout",
          "text": [
            "{0, 1, 2}\n"
          ]
        },
        {
          "output_type": "display_data",
          "data": {
            "text/plain": [
              "<Figure size 432x288 with 1 Axes>"
            ],
            "image/png": "[encoded data removed]"
          },
          "metadata": {
            "needs_background": "light"
          }
        },
        {
          "output_type": "stream",
          "name": "stdout",
          "text": [
            "{0, 1, 2}\n"
          ]
        },
        {
          "output_type": "display_data",
          "data": {
            "text/plain": [
              "<Figure size 432x288 with 1 Axes>"
            ],
            "image/png": "[encoded data removed]"
          },
          "metadata": {
            "needs_background": "light"
          }
        },
        {
          "output_type": "stream",
          "name": "stdout",
          "text": [
            "{0, 1, 2}\n"
          ]
        },
        {
          "output_type": "display_data",
          "data": {
            "text/plain": [
              "<Figure size 432x288 with 1 Axes>"
            ],
            "image/png": "[encoded data removed]"
          },
          "metadata": {
            "needs_background": "light"
          }
        }
      ],
      "source": [
        "#dummy class\n",
        "dummy_class=y.max()+1\n",
        "#list used for classifiers \n",
        "my_models=[]\n",
        "#iterate through each class\n",
        "for class_ in np.unique(y):\n",
        "    #select the index of our  class\n",
        "    select=(y==class_)\n",
        "    temp_y=np.zeros(y.shape)\n",
        "    #class, we are trying to classify \n",
        "    temp_y[y==class_]=class_\n",
        "    #set other samples  to a dummy class \n",
        "    temp_y[y!=class_]=dummy_class\n",
        "    #Train model and add to list \n",
        "    model=SVC(kernel='linear', gamma=.5, probability=True)    \n",
        "    my_models.append(model.fit(X,temp_y))\n",
        "    #plot decision boundary \n",
        "    decision_boundary (X,temp_y,model,iris)\n"
      ]
    },
    {
      "cell_type": "markdown",
      "metadata": {
        "id": "TmSFzmjB1otI"
      },
      "source": [
        "For each sample we calculate the  probability of belonging to each class, not including the dummy class.\n"
      ]
    },
    {
      "cell_type": "code",
      "execution_count": 19,
      "metadata": {
        "id": "4c95gE2T1otK"
      },
      "outputs": [],
      "source": [
        "probability_array=np.zeros((X.shape[0],3))\n",
        "for j,model in enumerate(my_models):\n",
        "\n",
        "    real_class=np.where(np.array(model.classes_)!=3)[0]\n",
        "\n",
        "    probability_array[:,j]=model.predict_proba(X)[:,real_class][:,0]"
      ]
    },
    {
      "cell_type": "markdown",
      "metadata": {
        "id": "qGOvy3KH1otL"
      },
      "source": [
        "Here, is the probability of belonging to each class for the first sample.\n"
      ]
    },
    {
      "cell_type": "code",
      "execution_count": 20,
      "metadata": {
        "colab": {
          "base_uri": "https://localhost:8080/"
        },
        "id": "ERxZ3KnY1otL",
        "outputId": "e55da854-a3b4-423e-ecc5-bccd814e6e4f"
      },
      "outputs": [
        {
          "output_type": "execute_result",
          "data": {
            "text/plain": [
              "array([9.91303296e-01, 1.16856691e-01, 4.45973422e-12])"
            ]
          },
          "metadata": {},
          "execution_count": 20
        }
      ],
      "source": [
        "probability_array[0,:]"
      ]
    },
    {
      "cell_type": "markdown",
      "metadata": {
        "id": "3ZVcfQWv1otM"
      },
      "source": [
        "As each is the probability of belonging to the actual class and not the dummy class, it does not sum to one.\n"
      ]
    },
    {
      "cell_type": "code",
      "execution_count": 21,
      "metadata": {
        "colab": {
          "base_uri": "https://localhost:8080/"
        },
        "id": "v4oNqF_F1otM",
        "outputId": "49c52cb5-ca48-404c-a419-2cbfabe26c7b"
      },
      "outputs": [
        {
          "output_type": "execute_result",
          "data": {
            "text/plain": [
              "1.1081599870279488"
            ]
          },
          "metadata": {},
          "execution_count": 21
        }
      ],
      "source": [
        "probability_array[0,:].sum()"
      ]
    },
    {
      "cell_type": "markdown",
      "metadata": {
        "id": "TBhj4UwA1otM"
      },
      "source": [
        "We can plot the probability of belonging to the class. The row number is the sample number.\n"
      ]
    },
    {
      "cell_type": "code",
      "execution_count": 22,
      "metadata": {
        "colab": {
          "base_uri": "https://localhost:8080/",
          "height": 266
        },
        "id": "iq1ZE8lP1otM",
        "outputId": "ad38b7e5-6bb2-4cb5-dc34-b603e28c6635"
      },
      "outputs": [
        {
          "output_type": "display_data",
          "data": {
            "text/plain": [
              "<Figure size 432x288 with 2 Axes>"
            ],
            "image/png": "[encoded data removed]"
          },
          "metadata": {
            "needs_background": "light"
          }
        }
      ],
      "source": [
        "plot_probability_array(X,probability_array)"
      ]
    },
    {
      "cell_type": "markdown",
      "metadata": {
        "id": "m6-X6YLA1otM"
      },
      "source": [
        "We can apply the $argmax$ function to each sample to find the class.\n"
      ]
    },
    {
      "cell_type": "code",
      "execution_count": 23,
      "metadata": {
        "colab": {
          "base_uri": "https://localhost:8080/"
        },
        "id": "xnFjdm3J1otN",
        "outputId": "53ebeb8e-2483-4f85-c126-aca8cb47e916"
      },
      "outputs": [
        {
          "output_type": "execute_result",
          "data": {
            "text/plain": [
              "array([0, 0, 0, 0, 0, 0, 0, 0, 0, 0, 0, 0, 0, 0, 0, 0, 0, 0, 0, 0, 0, 0,\n",
              "       0, 0, 0, 0, 0, 0, 0, 0, 0, 0, 0, 0, 0, 0, 0, 0, 0, 0, 0, 1, 0, 0,\n",
              "       0, 0, 0, 0, 0, 0, 1, 1, 1, 1, 1, 1, 2, 1, 1, 1, 1, 1, 1, 1, 1, 1,\n",
              "       1, 1, 1, 1, 2, 1, 1, 1, 1, 1, 1, 2, 1, 1, 1, 1, 1, 1, 1, 2, 1, 1,\n",
              "       1, 1, 1, 1, 1, 1, 1, 1, 1, 1, 1, 1, 2, 2, 2, 2, 2, 2, 2, 2, 2, 2,\n",
              "       2, 2, 2, 2, 2, 2, 2, 2, 2, 1, 2, 2, 2, 2, 2, 2, 2, 2, 2, 2, 2, 2,\n",
              "       2, 1, 1, 2, 2, 2, 2, 2, 2, 2, 2, 2, 2, 2, 2, 2, 2, 2])"
            ]
          },
          "metadata": {},
          "execution_count": 23
        }
      ],
      "source": [
        "one_vs_all=np.argmax(probability_array,axis=1)\n",
        "one_vs_all"
      ]
    },
    {
      "cell_type": "markdown",
      "metadata": {
        "id": "E7-DAhOo1otN"
      },
      "source": [
        "We can calculate the accuracy.\n"
      ]
    },
    {
      "cell_type": "code",
      "execution_count": 24,
      "metadata": {
        "colab": {
          "base_uri": "https://localhost:8080/"
        },
        "id": "czcdITKI1otN",
        "outputId": "31d2a9d1-9a42-4436-be4a-f9099bbcb40d"
      },
      "outputs": [
        {
          "output_type": "execute_result",
          "data": {
            "text/plain": [
              "0.9466666666666667"
            ]
          },
          "metadata": {},
          "execution_count": 24
        }
      ],
      "source": [
        "accuracy_score(y,one_vs_all)"
      ]
    },
    {
      "cell_type": "markdown",
      "metadata": {
        "id": "Fa9JGTHs1otN"
      },
      "source": [
        "We see the accuracy is less than the one obtained by sklearn, and this is because for SVM, sklearn uses one vs one; let's verify it by comparing the outputs.\n"
      ]
    },
    {
      "cell_type": "code",
      "execution_count": 25,
      "metadata": {
        "colab": {
          "base_uri": "https://localhost:8080/"
        },
        "id": "WEvxadvt1otN",
        "outputId": "21769d27-957d-45b8-eb2e-6a58e98ac434"
      },
      "outputs": [
        {
          "output_type": "execute_result",
          "data": {
            "text/plain": [
              "0.9733333333333334"
            ]
          },
          "metadata": {},
          "execution_count": 25
        }
      ],
      "source": [
        "accuracy_score(one_vs_all,yhat)"
      ]
    },
    {
      "cell_type": "markdown",
      "metadata": {
        "id": "81GiCCiN1otO"
      },
      "source": [
        "We see that the outputs are different, now lets implement one vs one.\n"
      ]
    },
    {
      "cell_type": "markdown",
      "metadata": {
        "id": "RpBZ0fR31otO"
      },
      "source": [
        "## One vs One\n"
      ]
    },
    {
      "cell_type": "markdown",
      "metadata": {
        "id": "lL_2zSxk1otO"
      },
      "source": [
        "In One-vs-One classification, we split up the data into each class, and then train a two-class classifier on each pair of classes. For example, if we have class 0,1,2, we would train one classifier on the samples that are class 0 and class 1, a second classifier on samples that are of class 0 and class 2, and a final classifier on samples of class 1 and class 2.\n",
        "\n",
        "For $K$ classes, we have to train $K(K-1)/2$ classifiers. So, if $K=3$, we have $(3x2)/2=3 $classes.\n",
        "\n",
        "To perform classification on a sample, we perform a majority vote and select the class with the most predictions.\n"
      ]
    },
    {
      "cell_type": "markdown",
      "metadata": {
        "id": "oS7-0wzE1otO"
      },
      "source": [
        "Here, we list each class.\n"
      ]
    },
    {
      "cell_type": "code",
      "execution_count": 26,
      "metadata": {
        "colab": {
          "base_uri": "https://localhost:8080/"
        },
        "id": "8qu19Fef1otO",
        "outputId": "373fd63e-5690-41ef-85b2-e7179adb431c"
      },
      "outputs": [
        {
          "output_type": "execute_result",
          "data": {
            "text/plain": [
              "{0, 1, 2}"
            ]
          },
          "metadata": {},
          "execution_count": 26
        }
      ],
      "source": [
        "classes_=set(np.unique(y))\n",
        "classes_\n",
        "   "
      ]
    },
    {
      "cell_type": "markdown",
      "metadata": {
        "id": "fZQxpBjs1otP"
      },
      "source": [
        "Determine the number of classifiers:\n"
      ]
    },
    {
      "cell_type": "code",
      "execution_count": 27,
      "metadata": {
        "colab": {
          "base_uri": "https://localhost:8080/"
        },
        "id": "JB7geAu_1otP",
        "outputId": "a85ad235-4071-4ef8-c374-3a30e2795359"
      },
      "outputs": [
        {
          "output_type": "execute_result",
          "data": {
            "text/plain": [
              "3.0"
            ]
          },
          "metadata": {},
          "execution_count": 27
        }
      ],
      "source": [
        "K=len(classes_)\n",
        "K*(K-1)/2"
      ]
    },
    {
      "cell_type": "markdown",
      "metadata": {
        "id": "Y16oEm4R1otP"
      },
      "source": [
        "We then train a two-class classifier on each pair of classes. We plot the different training points for each of the two classes.\n"
      ]
    },
    {
      "cell_type": "code",
      "execution_count": 28,
      "metadata": {
        "colab": {
          "base_uri": "https://localhost:8080/",
          "height": 813
        },
        "id": "oczXwGt91otP",
        "outputId": "557ee5fa-bfd8-4a5a-8b10-c125b8b9d935"
      },
      "outputs": [
        {
          "output_type": "stream",
          "name": "stdout",
          "text": [
            "class 0 vs class 1 \n"
          ]
        },
        {
          "output_type": "display_data",
          "data": {
            "text/plain": [
              "<Figure size 432x288 with 1 Axes>"
            ],
            "image/png": "[encoded data removed]"
          },
          "metadata": {
            "needs_background": "light"
          }
        },
        {
          "output_type": "stream",
          "name": "stdout",
          "text": [
            "class 0 vs class 2 \n"
          ]
        },
        {
          "output_type": "display_data",
          "data": {
            "text/plain": [
              "<Figure size 432x288 with 1 Axes>"
            ],
            "image/png": "[encoded data removed]"
          },
          "metadata": {
            "needs_background": "light"
          }
        },
        {
          "output_type": "stream",
          "name": "stdout",
          "text": [
            "class 1 vs class 2 \n"
          ]
        },
        {
          "output_type": "display_data",
          "data": {
            "text/plain": [
              "<Figure size 432x288 with 1 Axes>"
            ],
            "image/png": "[encoded data removed]"
          },
          "metadata": {
            "needs_background": "light"
          }
        }
      ],
      "source": [
        "pairs=[]\n",
        "left_overs=classes_.copy()\n",
        "#list used for classifiers \n",
        "my_models=[]\n",
        "#iterate through each class\n",
        "for class_ in classes_:\n",
        "    #remove class we have seen before \n",
        "    left_overs.remove(class_)\n",
        "    #the second class in the pair\n",
        "    for second_class in left_overs:\n",
        "        pairs.append(str(class_)+' and '+str(second_class))\n",
        "        print(\"class {} vs class {} \".format(class_,second_class) )\n",
        "        temp_y=np.zeros(y.shape)\n",
        "        #find classes in pair \n",
        "        select=np.logical_or(y==class_ , y==second_class)\n",
        "        #train model \n",
        "        model=SVC(kernel='linear', gamma=.5, probability=True)  \n",
        "        model.fit(X[select,:],y[select])\n",
        "        my_models.append(model)\n",
        "        #Plot decision boundary for each pair and corresponding Training samples. \n",
        "        decision_boundary (X[select,:],y[select],model,iris,two=True)\n",
        "   \n",
        "        \n",
        "    "
      ]
    },
    {
      "cell_type": "code",
      "execution_count": 29,
      "metadata": {
        "colab": {
          "base_uri": "https://localhost:8080/"
        },
        "id": "9h7EJ1ek1otQ",
        "outputId": "5769c237-0023-4873-b04b-5fd2567bc890"
      },
      "outputs": [
        {
          "output_type": "execute_result",
          "data": {
            "text/plain": [
              "['0 and 1', '0 and 2', '1 and 2']"
            ]
          },
          "metadata": {},
          "execution_count": 29
        }
      ],
      "source": [
        "pairs"
      ]
    },
    {
      "cell_type": "markdown",
      "metadata": {
        "id": "9xnGAg9A1otQ"
      },
      "source": [
        "As we can see, our data is left-skewed, containing more \"5\" star reviews.\n"
      ]
    },
    {
      "cell_type": "markdown",
      "metadata": {
        "id": "-07bW6I-1otQ"
      },
      "source": [
        "Here, we are plotting the distribution of text length.\n"
      ]
    },
    {
      "cell_type": "code",
      "execution_count": 30,
      "metadata": {
        "id": "bS_T9_LT1otQ"
      },
      "outputs": [],
      "source": [
        "pairs\n",
        "majority_vote_array=np.zeros((X.shape[0],3))\n",
        "majority_vote_dict={}\n",
        "for j,(model,pair) in enumerate(zip(my_models,pairs)):\n",
        "\n",
        "    majority_vote_dict[pair]=model.predict(X)\n",
        "    majority_vote_array[:,j]=model.predict(X)"
      ]
    },
    {
      "cell_type": "markdown",
      "metadata": {
        "id": "lTYvUwZX1otQ"
      },
      "source": [
        "In the following table, each column is the output of a classifier for each pair of classes and the output is the prediction:\n"
      ]
    },
    {
      "cell_type": "code",
      "execution_count": 31,
      "metadata": {
        "colab": {
          "base_uri": "https://localhost:8080/",
          "height": 363
        },
        "id": "DKVEDeej1otR",
        "outputId": "41733477-12d8-493e-9953-9da8ea157bf7"
      },
      "outputs": [
        {
          "output_type": "execute_result",
          "data": {
            "text/plain": [
              "   0 and 1  0 and 2  1 and 2\n",
              "0        0        0        1\n",
              "1        0        0        1\n",
              "2        0        0        1\n",
              "3        0        0        1\n",
              "4        0        0        1\n",
              "5        0        0        1\n",
              "6        0        0        1\n",
              "7        0        0        1\n",
              "8        0        0        1\n",
              "9        0        0        1"
            ],
            "text/html": [
              "\n",
              "  <div id=\"df-f99074f3-8268-40c7-8ae7-983ab4c47644\">\n",
              "    <div class=\"colab-df-container\">\n",
              "      <div>\n",
              "<style scoped>\n",
              "    .dataframe tbody tr th:only-of-type {\n",
              "        vertical-align: middle;\n",
              "    }\n",
              "\n",
              "    .dataframe tbody tr th {\n",
              "        vertical-align: top;\n",
              "    }\n",
              "\n",
              "    .dataframe thead th {\n",
              "        text-align: right;\n",
              "    }\n",
              "</style>\n",
              "<table border=\"1\" class=\"dataframe\">\n",
              "  <thead>\n",
              "    <tr style=\"text-align: right;\">\n",
              "      <th></th>\n",
              "      <th>0 and 1</th>\n",
              "      <th>0 and 2</th>\n",
              "      <th>1 and 2</th>\n",
              "    </tr>\n",
              "  </thead>\n",
              "  <tbody>\n",
              "    <tr>\n",
              "      <th>0</th>\n",
              "      <td>0</td>\n",
              "      <td>0</td>\n",
              "      <td>1</td>\n",
              "    </tr>\n",
              "    <tr>\n",
              "      <th>1</th>\n",
              "      <td>0</td>\n",
              "      <td>0</td>\n",
              "      <td>1</td>\n",
              "    </tr>\n",
              "    <tr>\n",
              "      <th>2</th>\n",
              "      <td>0</td>\n",
              "      <td>0</td>\n",
              "      <td>1</td>\n",
              "    </tr>\n",
              "    <tr>\n",
              "      <th>3</th>\n",
              "      <td>0</td>\n",
              "      <td>0</td>\n",
              "      <td>1</td>\n",
              "    </tr>\n",
              "    <tr>\n",
              "      <th>4</th>\n",
              "      <td>0</td>\n",
              "      <td>0</td>\n",
              "      <td>1</td>\n",
              "    </tr>\n",
              "    <tr>\n",
              "      <th>5</th>\n",
              "      <td>0</td>\n",
              "      <td>0</td>\n",
              "      <td>1</td>\n",
              "    </tr>\n",
              "    <tr>\n",
              "      <th>6</th>\n",
              "      <td>0</td>\n",
              "      <td>0</td>\n",
              "      <td>1</td>\n",
              "    </tr>\n",
              "    <tr>\n",
              "      <th>7</th>\n",
              "      <td>0</td>\n",
              "      <td>0</td>\n",
              "      <td>1</td>\n",
              "    </tr>\n",
              "    <tr>\n",
              "      <th>8</th>\n",
              "      <td>0</td>\n",
              "      <td>0</td>\n",
              "      <td>1</td>\n",
              "    </tr>\n",
              "    <tr>\n",
              "      <th>9</th>\n",
              "      <td>0</td>\n",
              "      <td>0</td>\n",
              "      <td>1</td>\n",
              "    </tr>\n",
              "  </tbody>\n",
              "</table>\n",
              "</div>\n",
              "      <button class=\"colab-df-convert\" onclick=\"convertToInteractive('df-f99074f3-8268-40c7-8ae7-983ab4c47644')\"\n",
              "              title=\"Convert this dataframe to an interactive table.\"\n",
              "              style=\"display:none;\">\n",
              "        \n",
              "  <svg xmlns=\"http://www.w3.org/2000/svg\" height=\"24px\"viewBox=\"0 0 24 24\"\n",
              "       width=\"24px\">\n",
              "    <path d=\"M0 0h24v24H0V0z\" fill=\"none\"/>\n",
              "    <path d=\"M18.56 5.44l.94 2.06.94-2.06 2.06-.94-2.06-.94-.94-2.06-.94 2.06-2.06.94zm-11 1L8.5 8.5l.94-2.06 2.06-.94-2.06-.94L8.5 2.5l-.94 2.06-2.06.94zm10 10l.94 2.06.94-2.06 2.06-.94-2.06-.94-.94-2.06-.94 2.06-2.06.94z\"/><path d=\"M17.41 7.96l-1.37-1.37c-.4-.4-.92-.59-1.43-.59-.52 0-1.04.2-1.43.59L10.3 9.45l-7.72 7.72c-.78.78-.78 2.05 0 2.83L4 21.41c.39.39.9.59 1.41.59.51 0 1.02-.2 1.41-.59l7.78-7.78 2.81-2.81c.8-.78.8-2.07 0-2.86zM5.41 20L4 18.59l7.72-7.72 1.47 1.35L5.41 20z\"/>\n",
              "  </svg>\n",
              "      </button>\n",
              "      \n",
              "  <style>\n",
              "    .colab-df-container {\n",
              "      display:flex;\n",
              "      flex-wrap:wrap;\n",
              "      gap: 12px;\n",
              "    }\n",
              "\n",
              "    .colab-df-convert {\n",
              "      background-color: #E8F0FE;\n",
              "      border: none;\n",
              "      border-radius: 50%;\n",
              "      cursor: pointer;\n",
              "      display: none;\n",
              "      fill: #1967D2;\n",
              "      height: 32px;\n",
              "      padding: 0 0 0 0;\n",
              "      width: 32px;\n",
              "    }\n",
              "\n",
              "    .colab-df-convert:hover {\n",
              "      background-color: #E2EBFA;\n",
              "      box-shadow: 0px 1px 2px rgba(60, 64, 67, 0.3), 0px 1px 3px 1px rgba(60, 64, 67, 0.15);\n",
              "      fill: #174EA6;\n",
              "    }\n",
              "\n",
              "    [theme=dark] .colab-df-convert {\n",
              "      background-color: #3B4455;\n",
              "      fill: #D2E3FC;\n",
              "    }\n",
              "\n",
              "    [theme=dark] .colab-df-convert:hover {\n",
              "      background-color: #434B5C;\n",
              "      box-shadow: 0px 1px 3px 1px rgba(0, 0, 0, 0.15);\n",
              "      filter: drop-shadow(0px 1px 2px rgba(0, 0, 0, 0.3));\n",
              "      fill: #FFFFFF;\n",
              "    }\n",
              "  </style>\n",
              "\n",
              "      <script>\n",
              "        const buttonEl =\n",
              "          document.querySelector('#df-f99074f3-8268-40c7-8ae7-983ab4c47644 button.colab-df-convert');\n",
              "        buttonEl.style.display =\n",
              "          google.colab.kernel.accessAllowed ? 'block' : 'none';\n",
              "\n",
              "        async function convertToInteractive(key) {\n",
              "          const element = document.querySelector('#df-f99074f3-8268-40c7-8ae7-983ab4c47644');\n",
              "          const dataTable =\n",
              "            await google.colab.kernel.invokeFunction('convertToInteractive',\n",
              "                                                     [key], {});\n",
              "          if (!dataTable) return;\n",
              "\n",
              "          const docLinkHtml = 'Like what you see? Visit the ' +\n",
              "            '<a target=\"_blank\" href=https://colab.research.google.com/notebooks/data_table.ipynb>data table notebook</a>'\n",
              "            + ' to learn more about interactive tables.';\n",
              "          element.innerHTML = '';\n",
              "          dataTable['output_type'] = 'display_data';\n",
              "          await google.colab.output.renderOutput(dataTable, element);\n",
              "          const docLink = document.createElement('div');\n",
              "          docLink.innerHTML = docLinkHtml;\n",
              "          element.appendChild(docLink);\n",
              "        }\n",
              "      </script>\n",
              "    </div>\n",
              "  </div>\n",
              "  "
            ]
          },
          "metadata": {},
          "execution_count": 31
        }
      ],
      "source": [
        "pd.DataFrame(majority_vote_dict).head(10)"
      ]
    },
    {
      "cell_type": "markdown",
      "metadata": {
        "id": "SnpzxX0E1otR"
      },
      "source": [
        "To perform classification on a sample, we perform a majority vote, that is, select the class with the most predictions. We repeat the process for each sample.\n"
      ]
    },
    {
      "cell_type": "code",
      "execution_count": 32,
      "metadata": {
        "colab": {
          "base_uri": "https://localhost:8080/"
        },
        "id": "_Q6RiXcM1otR",
        "outputId": "07c05abb-4120-4ff9-db32-7c5762a36806"
      },
      "outputs": [
        {
          "output_type": "execute_result",
          "data": {
            "text/plain": [
              "array([0, 0, 0, 0, 0, 0, 0, 0, 0, 0, 0, 0, 0, 0, 0, 0, 0, 0, 0, 0, 0, 0,\n",
              "       0, 0, 0, 0, 0, 0, 0, 0, 0, 0, 0, 0, 0, 0, 0, 0, 0, 0, 0, 0, 0, 0,\n",
              "       0, 0, 0, 0, 0, 0, 1, 1, 1, 1, 1, 1, 1, 1, 1, 1, 1, 1, 1, 1, 1, 1,\n",
              "       1, 1, 1, 1, 2, 1, 1, 1, 1, 1, 1, 2, 1, 1, 1, 1, 1, 1, 1, 1, 1, 1,\n",
              "       1, 1, 1, 1, 1, 1, 1, 1, 1, 1, 1, 1, 2, 2, 2, 2, 2, 2, 2, 2, 2, 2,\n",
              "       2, 2, 2, 2, 2, 2, 2, 2, 2, 1, 2, 2, 2, 2, 2, 2, 2, 2, 2, 1, 2, 2,\n",
              "       2, 1, 1, 2, 2, 2, 2, 2, 2, 2, 2, 2, 2, 2, 2, 2, 2, 2])"
            ]
          },
          "metadata": {},
          "execution_count": 32
        }
      ],
      "source": [
        "one_vs_one=np.array([np.bincount(sample.astype(int)).argmax() for sample  in majority_vote_array]) \n",
        "one_vs_one\n",
        "    "
      ]
    },
    {
      "cell_type": "markdown",
      "metadata": {
        "id": "YJld1WsI1otR"
      },
      "source": [
        "We calculate the accuracy:\n"
      ]
    },
    {
      "cell_type": "code",
      "execution_count": 33,
      "metadata": {
        "colab": {
          "base_uri": "https://localhost:8080/"
        },
        "id": "OK8Oo3XI1otR",
        "outputId": "3c095cf0-ad4d-4592-f2e9-f91e8de2c04b"
      },
      "outputs": [
        {
          "output_type": "execute_result",
          "data": {
            "text/plain": [
              "0.96"
            ]
          },
          "metadata": {},
          "execution_count": 33
        }
      ],
      "source": [
        "accuracy_score(y,one_vs_one)"
      ]
    },
    {
      "cell_type": "markdown",
      "metadata": {
        "id": "yB17QX5K1otS"
      },
      "source": [
        "If we compare it to `sklearn`, it's the same!\n"
      ]
    },
    {
      "cell_type": "code",
      "execution_count": 34,
      "metadata": {
        "colab": {
          "base_uri": "https://localhost:8080/"
        },
        "id": "JKEMIwgd1otS",
        "outputId": "68b04141-d748-426d-d1da-7087778e9e06"
      },
      "outputs": [
        {
          "output_type": "execute_result",
          "data": {
            "text/plain": [
              "1.0"
            ]
          },
          "metadata": {},
          "execution_count": 34
        }
      ],
      "source": [
        "accuracy_score(yhat,one_vs_one)"
      ]
    },
    {
      "cell_type": "markdown",
      "metadata": {
        "id": "K1AEnBLv1otS"
      },
      "source": [
        "***\n"
      ]
    }
  ],
  "metadata": {
    "kernelspec": {
      "display_name": "Python",
      "language": "python",
      "name": "conda-env-python-py"
    },
    "language_info": {
      "codemirror_mode": {
        "name": "ipython",
        "version": 3
      },
      "file_extension": ".py",
      "mimetype": "text/x-python",
      "name": "python",
      "nbconvert_exporter": "python",
      "pygments_lexer": "ipython3",
      "version": "3.7.12"
    },
    "toc-showcode": false,
    "colab": {
      "provenance": []
    }
  },
  "nbformat": 4,
  "nbformat_minor": 0
}